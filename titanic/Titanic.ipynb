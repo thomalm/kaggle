{
 "cells": [
  {
   "cell_type": "markdown",
   "metadata": {},
   "source": [
    "# Titanic: Machine Learning from Disaster\n",
    "\n",
    "## Introduction\n",
    "\n",
    "> The sinking of the RMS Titanic is one of the most infamous shipwrecks in history.  On April 15, 1912, during her maiden voyage, the Titanic sank after colliding with an iceberg, killing 1502 out of 2224 passengers and crew. This sensational tragedy shocked the international community and led to better safety regulations for ships.\n",
    "\n",
    ">One of the reasons that the shipwreck led to such loss of life was that there were not enough lifeboats for the passengers and crew. Although there was some element of luck involved in surviving the sinking, some groups of people were more likely to survive than others, such as women, children, and the upper-class.\n",
    "\n",
    ">In this challenge, we ask you to complete the analysis of what sorts of people were likely to survive. In particular, we ask you to apply the tools of machine learning to predict which passengers survived the tragedy.\n",
    "\n",
    "** Import dependencies **"
   ]
  },
  {
   "cell_type": "code",
   "execution_count": 69,
   "metadata": {
    "collapsed": false
   },
   "outputs": [],
   "source": [
    "import warnings\n",
    "warnings.filterwarnings('ignore')\n",
    "\n",
    "%matplotlib inline\n",
    "import matplotlib.pyplot as plt\n",
    "import numpy as np\n",
    "import pandas as pd\n",
    "import seaborn as sns"
   ]
  },
  {
   "cell_type": "markdown",
   "metadata": {},
   "source": [
    "** Variable Descriptions **"
   ]
  },
  {
   "cell_type": "markdown",
   "metadata": {},
   "source": [
    "* **survival**: Survival (0 = No; 1 = Yes)\n",
    "* **pclass**: Passenger Class (1 = 1st; 2 = 2nd; 3 = 3rd)\n",
    "* **name**: Name\n",
    "* **sex**: Sex\n",
    "* **age**: Age\n",
    "* **sibsp**: Number of Siblings/Spouses Aboard\n",
    "* **parch**: Number of Parents/Children Aboard\n",
    "* **ticket**: Ticket Number\n",
    "* **fare**: Passenger Fare\n",
    "* **cabin**: Cabin\n",
    "* **embarked**: Port of Embarkation (C = Cherbourg; Q = Queenstown; S = Southampton)"
   ]
  },
  {
   "cell_type": "markdown",
   "metadata": {},
   "source": [
    "## Read the Data\n",
    "\n",
    "Read the data and diplay the first 5 rows"
   ]
  },
  {
   "cell_type": "code",
   "execution_count": 70,
   "metadata": {
    "collapsed": false
   },
   "outputs": [
    {
     "data": {
      "text/html": [
       "<div>\n",
       "<table border=\"1\" class=\"dataframe\">\n",
       "  <thead>\n",
       "    <tr style=\"text-align: right;\">\n",
       "      <th></th>\n",
       "      <th>PassengerId</th>\n",
       "      <th>Survived</th>\n",
       "      <th>Pclass</th>\n",
       "      <th>Name</th>\n",
       "      <th>Sex</th>\n",
       "      <th>Age</th>\n",
       "      <th>SibSp</th>\n",
       "      <th>Parch</th>\n",
       "      <th>Ticket</th>\n",
       "      <th>Fare</th>\n",
       "      <th>Cabin</th>\n",
       "      <th>Embarked</th>\n",
       "    </tr>\n",
       "  </thead>\n",
       "  <tbody>\n",
       "    <tr>\n",
       "      <th>0</th>\n",
       "      <td>1</td>\n",
       "      <td>0</td>\n",
       "      <td>3</td>\n",
       "      <td>Braund, Mr. Owen Harris</td>\n",
       "      <td>male</td>\n",
       "      <td>22</td>\n",
       "      <td>1</td>\n",
       "      <td>0</td>\n",
       "      <td>A/5 21171</td>\n",
       "      <td>7.2500</td>\n",
       "      <td>NaN</td>\n",
       "      <td>S</td>\n",
       "    </tr>\n",
       "    <tr>\n",
       "      <th>1</th>\n",
       "      <td>2</td>\n",
       "      <td>1</td>\n",
       "      <td>1</td>\n",
       "      <td>Cumings, Mrs. John Bradley (Florence Briggs Th...</td>\n",
       "      <td>female</td>\n",
       "      <td>38</td>\n",
       "      <td>1</td>\n",
       "      <td>0</td>\n",
       "      <td>PC 17599</td>\n",
       "      <td>71.2833</td>\n",
       "      <td>C85</td>\n",
       "      <td>C</td>\n",
       "    </tr>\n",
       "    <tr>\n",
       "      <th>2</th>\n",
       "      <td>3</td>\n",
       "      <td>1</td>\n",
       "      <td>3</td>\n",
       "      <td>Heikkinen, Miss. Laina</td>\n",
       "      <td>female</td>\n",
       "      <td>26</td>\n",
       "      <td>0</td>\n",
       "      <td>0</td>\n",
       "      <td>STON/O2. 3101282</td>\n",
       "      <td>7.9250</td>\n",
       "      <td>NaN</td>\n",
       "      <td>S</td>\n",
       "    </tr>\n",
       "    <tr>\n",
       "      <th>3</th>\n",
       "      <td>4</td>\n",
       "      <td>1</td>\n",
       "      <td>1</td>\n",
       "      <td>Futrelle, Mrs. Jacques Heath (Lily May Peel)</td>\n",
       "      <td>female</td>\n",
       "      <td>35</td>\n",
       "      <td>1</td>\n",
       "      <td>0</td>\n",
       "      <td>113803</td>\n",
       "      <td>53.1000</td>\n",
       "      <td>C123</td>\n",
       "      <td>S</td>\n",
       "    </tr>\n",
       "    <tr>\n",
       "      <th>4</th>\n",
       "      <td>5</td>\n",
       "      <td>0</td>\n",
       "      <td>3</td>\n",
       "      <td>Allen, Mr. William Henry</td>\n",
       "      <td>male</td>\n",
       "      <td>35</td>\n",
       "      <td>0</td>\n",
       "      <td>0</td>\n",
       "      <td>373450</td>\n",
       "      <td>8.0500</td>\n",
       "      <td>NaN</td>\n",
       "      <td>S</td>\n",
       "    </tr>\n",
       "  </tbody>\n",
       "</table>\n",
       "</div>"
      ],
      "text/plain": [
       "   PassengerId  Survived  Pclass  \\\n",
       "0            1         0       3   \n",
       "1            2         1       1   \n",
       "2            3         1       3   \n",
       "3            4         1       1   \n",
       "4            5         0       3   \n",
       "\n",
       "                                                Name     Sex  Age  SibSp  \\\n",
       "0                            Braund, Mr. Owen Harris    male   22      1   \n",
       "1  Cumings, Mrs. John Bradley (Florence Briggs Th...  female   38      1   \n",
       "2                             Heikkinen, Miss. Laina  female   26      0   \n",
       "3       Futrelle, Mrs. Jacques Heath (Lily May Peel)  female   35      1   \n",
       "4                           Allen, Mr. William Henry    male   35      0   \n",
       "\n",
       "   Parch            Ticket     Fare Cabin Embarked  \n",
       "0      0         A/5 21171   7.2500   NaN        S  \n",
       "1      0          PC 17599  71.2833   C85        C  \n",
       "2      0  STON/O2. 3101282   7.9250   NaN        S  \n",
       "3      0            113803  53.1000  C123        S  \n",
       "4      0            373450   8.0500   NaN        S  "
      ]
     },
     "execution_count": 70,
     "metadata": {},
     "output_type": "execute_result"
    }
   ],
   "source": [
    "titanic = pd.read_csv(\"data/train.csv\")\n",
    "\n",
    "# display the 5 first rows\n",
    "titanic.head()"
   ]
  },
  {
   "cell_type": "markdown",
   "metadata": {},
   "source": [
    "Lets see how many non-NA/null observations there are for every variable"
   ]
  },
  {
   "cell_type": "code",
   "execution_count": 71,
   "metadata": {
    "collapsed": false
   },
   "outputs": [
    {
     "data": {
      "text/plain": [
       "PassengerId    891\n",
       "Survived       891\n",
       "Pclass         891\n",
       "Name           891\n",
       "Sex            891\n",
       "Age            714\n",
       "SibSp          891\n",
       "Parch          891\n",
       "Ticket         891\n",
       "Fare           891\n",
       "Cabin          204\n",
       "Embarked       889\n",
       "dtype: int64"
      ]
     },
     "execution_count": 71,
     "metadata": {},
     "output_type": "execute_result"
    }
   ],
   "source": [
    "titanic.count()"
   ]
  },
  {
   "cell_type": "markdown",
   "metadata": {},
   "source": [
    "### Cleaning the Data"
   ]
  },
  {
   "cell_type": "markdown",
   "metadata": {},
   "source": [
    "Cabin seems to have a lot of missing values, so we drop it (for now)."
   ]
  },
  {
   "cell_type": "code",
   "execution_count": 72,
   "metadata": {
    "collapsed": false
   },
   "outputs": [],
   "source": [
    "# Lowercase all column names\n",
    "titanic.columns = [c.lower() for c in titanic.columns]\n",
    "\n",
    "# Let's keep only the complete records for visualization purposes\n",
    "df = titanic\n",
    "df = df.drop(['cabin'], axis=1)\n",
    "df = df.dropna()"
   ]
  },
  {
   "cell_type": "markdown",
   "metadata": {},
   "source": [
    "Lets see how many rows we have left"
   ]
  },
  {
   "cell_type": "code",
   "execution_count": 73,
   "metadata": {
    "collapsed": false
   },
   "outputs": [
    {
     "data": {
      "text/plain": [
       "712"
      ]
     },
     "execution_count": 73,
     "metadata": {},
     "output_type": "execute_result"
    }
   ],
   "source": [
    "len(df)"
   ]
  },
  {
   "cell_type": "markdown",
   "metadata": {},
   "source": [
    "Calculate some basic statistical figures for the non-categorical columns"
   ]
  },
  {
   "cell_type": "code",
   "execution_count": 74,
   "metadata": {
    "collapsed": false
   },
   "outputs": [
    {
     "data": {
      "text/html": [
       "<div>\n",
       "<table border=\"1\" class=\"dataframe\">\n",
       "  <thead>\n",
       "    <tr style=\"text-align: right;\">\n",
       "      <th></th>\n",
       "      <th>passengerid</th>\n",
       "      <th>survived</th>\n",
       "      <th>pclass</th>\n",
       "      <th>age</th>\n",
       "      <th>sibsp</th>\n",
       "      <th>parch</th>\n",
       "      <th>fare</th>\n",
       "    </tr>\n",
       "  </thead>\n",
       "  <tbody>\n",
       "    <tr>\n",
       "      <th>count</th>\n",
       "      <td>712.000000</td>\n",
       "      <td>712.000000</td>\n",
       "      <td>712.000000</td>\n",
       "      <td>712.000000</td>\n",
       "      <td>712.000000</td>\n",
       "      <td>712.000000</td>\n",
       "      <td>712.000000</td>\n",
       "    </tr>\n",
       "    <tr>\n",
       "      <th>mean</th>\n",
       "      <td>448.589888</td>\n",
       "      <td>0.404494</td>\n",
       "      <td>2.240169</td>\n",
       "      <td>29.642093</td>\n",
       "      <td>0.514045</td>\n",
       "      <td>0.432584</td>\n",
       "      <td>34.567251</td>\n",
       "    </tr>\n",
       "    <tr>\n",
       "      <th>std</th>\n",
       "      <td>258.683191</td>\n",
       "      <td>0.491139</td>\n",
       "      <td>0.836854</td>\n",
       "      <td>14.492933</td>\n",
       "      <td>0.930692</td>\n",
       "      <td>0.854181</td>\n",
       "      <td>52.938648</td>\n",
       "    </tr>\n",
       "    <tr>\n",
       "      <th>min</th>\n",
       "      <td>1.000000</td>\n",
       "      <td>0.000000</td>\n",
       "      <td>1.000000</td>\n",
       "      <td>0.420000</td>\n",
       "      <td>0.000000</td>\n",
       "      <td>0.000000</td>\n",
       "      <td>0.000000</td>\n",
       "    </tr>\n",
       "    <tr>\n",
       "      <th>25%</th>\n",
       "      <td>222.750000</td>\n",
       "      <td>0.000000</td>\n",
       "      <td>1.000000</td>\n",
       "      <td>20.000000</td>\n",
       "      <td>0.000000</td>\n",
       "      <td>0.000000</td>\n",
       "      <td>8.050000</td>\n",
       "    </tr>\n",
       "    <tr>\n",
       "      <th>50%</th>\n",
       "      <td>445.000000</td>\n",
       "      <td>0.000000</td>\n",
       "      <td>2.000000</td>\n",
       "      <td>28.000000</td>\n",
       "      <td>0.000000</td>\n",
       "      <td>0.000000</td>\n",
       "      <td>15.645850</td>\n",
       "    </tr>\n",
       "    <tr>\n",
       "      <th>75%</th>\n",
       "      <td>677.250000</td>\n",
       "      <td>1.000000</td>\n",
       "      <td>3.000000</td>\n",
       "      <td>38.000000</td>\n",
       "      <td>1.000000</td>\n",
       "      <td>1.000000</td>\n",
       "      <td>33.000000</td>\n",
       "    </tr>\n",
       "    <tr>\n",
       "      <th>max</th>\n",
       "      <td>891.000000</td>\n",
       "      <td>1.000000</td>\n",
       "      <td>3.000000</td>\n",
       "      <td>80.000000</td>\n",
       "      <td>5.000000</td>\n",
       "      <td>6.000000</td>\n",
       "      <td>512.329200</td>\n",
       "    </tr>\n",
       "  </tbody>\n",
       "</table>\n",
       "</div>"
      ],
      "text/plain": [
       "       passengerid    survived      pclass         age       sibsp  \\\n",
       "count   712.000000  712.000000  712.000000  712.000000  712.000000   \n",
       "mean    448.589888    0.404494    2.240169   29.642093    0.514045   \n",
       "std     258.683191    0.491139    0.836854   14.492933    0.930692   \n",
       "min       1.000000    0.000000    1.000000    0.420000    0.000000   \n",
       "25%     222.750000    0.000000    1.000000   20.000000    0.000000   \n",
       "50%     445.000000    0.000000    2.000000   28.000000    0.000000   \n",
       "75%     677.250000    1.000000    3.000000   38.000000    1.000000   \n",
       "max     891.000000    1.000000    3.000000   80.000000    5.000000   \n",
       "\n",
       "            parch        fare  \n",
       "count  712.000000  712.000000  \n",
       "mean     0.432584   34.567251  \n",
       "std      0.854181   52.938648  \n",
       "min      0.000000    0.000000  \n",
       "25%      0.000000    8.050000  \n",
       "50%      0.000000   15.645850  \n",
       "75%      1.000000   33.000000  \n",
       "max      6.000000  512.329200  "
      ]
     },
     "execution_count": 74,
     "metadata": {},
     "output_type": "execute_result"
    }
   ],
   "source": [
    "df.describe()"
   ]
  },
  {
   "cell_type": "markdown",
   "metadata": {},
   "source": [
    "## Plotting the Features"
   ]
  },
  {
   "cell_type": "code",
   "execution_count": 75,
   "metadata": {
    "collapsed": false
   },
   "outputs": [
    {
     "data": {
      "text/plain": [
       "<matplotlib.text.Text at 0x11293df28>"
      ]
     },
     "execution_count": 75,
     "metadata": {},
     "output_type": "execute_result"
    },
    {
     "data": {
      "image/png": "[encoded data removed]",
      "text/plain": [
       "<matplotlib.figure.Figure at 0x1125339b0>"
      ]
     },
     "metadata": {},
     "output_type": "display_data"
    }
   ],
   "source": [
    "fig = plt.figure(figsize=(18, 6)) \n",
    "\n",
    "plt.subplot2grid((2, 3), (0, 0))\n",
    "df.survived.value_counts().plot(kind='bar', alpha=0.5)\n",
    "plt.title(\"Distribution of Survival, (1 = Survived)\")\n",
    "\n",
    "plt.subplot2grid((2, 3), (0, 1))\n",
    "plt.scatter(df.survived, df.age, alpha=0.1)\n",
    "plt.ylabel(\"age\")\n",
    "plt.title(\"Survial by Age,  (1 = Survived)\")\n",
    "\n",
    "plt.subplot2grid((2, 3), (0, 2))\n",
    "df.pclass.value_counts(ascending=True).plot(kind='barh', alpha=0.5)\n",
    "plt.ylabel(\"Pclass\")\n",
    "plt.title(\"Distribution of passenger class\")\n",
    " \n",
    "plt.subplot2grid((2, 3),(1, 0), colspan=2)\n",
    "df.age[df.pclass == 1].plot(kind='kde')    \n",
    "df.age[df.pclass == 2].plot(kind='kde')\n",
    "df.age[df.pclass == 3].plot(kind='kde')\n",
    "plt.xlabel(\"Age\")    \n",
    "plt.title(\"Age Distribution within classes\")\n",
    "plt.legend(('1st Class', '2nd Class','3rd Class'), loc='best')\n",
    "\n",
    "plt.subplot2grid((2, 3), (1, 2))\n",
    "df.embarked.value_counts().plot(kind='bar', alpha=0.5);\n",
    "plt.title(\"Distribution of port of Embarkation\")"
   ]
  },
  {
   "cell_type": "markdown",
   "metadata": {},
   "source": [
    "## Exploratory Data Analysis\n",
    "\n",
    "We wish to predict whether or not a passenger will survive or not. We are therefore interested in finding out what information or features can help us determine the probability that a passenger survived or perished."
   ]
  },
  {
   "cell_type": "code",
   "execution_count": 76,
   "metadata": {
    "collapsed": false
   },
   "outputs": [
    {
     "data": {
      "image/png": "[encoded data removed]",
      "text/plain": [
       "<matplotlib.figure.Figure at 0x112520128>"
      ]
     },
     "metadata": {},
     "output_type": "display_data"
    }
   ],
   "source": [
    "df.survived.value_counts().plot(kind='barh', alpha=.5)\n",
    "plt.title(\"Distribution of Survival, (1 = Survived)\");"
   ]
  },
  {
   "cell_type": "markdown",
   "metadata": {},
   "source": [
    "### Let us start breaking it down by gender\n",
    "\n",
    "> **Women** and children first is a historical code of conduct whereby the lives of women and children were to be saved first in a life-threatening situation (typically abandoning ship, when survival resources such as lifeboats were limited)."
   ]
  },
  {
   "cell_type": "code",
   "execution_count": 77,
   "metadata": {
    "collapsed": false
   },
   "outputs": [
    {
     "data": {
      "image/png": "[encoded data removed]",
      "text/plain": [
       "<matplotlib.figure.Figure at 0x112681320>"
      ]
     },
     "metadata": {},
     "output_type": "display_data"
    }
   ],
   "source": [
    "# Custom color palette for our plots\n",
    "pal = dict(male=\"#6495ED\", female=\"#FF6699\")\n",
    "\n",
    "# TODO: Figure out how to control alpha on seaborn barplots\n",
    "plt.figure(figsize=(8, 4))\n",
    "g = sns.barplot(y=\"sex\", x=\"survived\", data=df, palette=pal, )\n",
    "plt.title(\"Distribution of Survival by Gender (Proportional)\");"
   ]
  },
  {
   "cell_type": "markdown",
   "metadata": {},
   "source": [
    "We could also get the raw numbers using the groupby function in Pandas"
   ]
  },
  {
   "cell_type": "code",
   "execution_count": 78,
   "metadata": {
    "collapsed": false
   },
   "outputs": [
    {
     "data": {
      "text/html": [
       "<div>\n",
       "<table border=\"1\" class=\"dataframe\">\n",
       "  <thead>\n",
       "    <tr style=\"text-align: right;\">\n",
       "      <th></th>\n",
       "      <th>survived</th>\n",
       "    </tr>\n",
       "    <tr>\n",
       "      <th>sex</th>\n",
       "      <th></th>\n",
       "    </tr>\n",
       "  </thead>\n",
       "  <tbody>\n",
       "    <tr>\n",
       "      <th>female</th>\n",
       "      <td>0.752896</td>\n",
       "    </tr>\n",
       "    <tr>\n",
       "      <th>male</th>\n",
       "      <td>0.205298</td>\n",
       "    </tr>\n",
       "  </tbody>\n",
       "</table>\n",
       "</div>"
      ],
      "text/plain": [
       "        survived\n",
       "sex             \n",
       "female  0.752896\n",
       "male    0.205298"
      ]
     },
     "execution_count": 78,
     "metadata": {},
     "output_type": "execute_result"
    }
   ],
   "source": [
    "df.groupby('sex')[['survived']].mean()"
   ]
  },
  {
   "cell_type": "markdown",
   "metadata": {},
   "source": [
    "As you can see females had a significantly higher change of surviving (75.29%) compared to males (20.53%)."
   ]
  },
  {
   "cell_type": "markdown",
   "metadata": {},
   "source": [
    "## Passenger Class\n",
    "\n",
    "> Some random quote about income and life expectancy\n",
    "\n",
    "We can further break down the data by looking at multiple variables at the same time. Here we will look at the survival rates grouped by passenger class and gender."
   ]
  },
  {
   "cell_type": "code",
   "execution_count": 183,
   "metadata": {
    "collapsed": false
   },
   "outputs": [
    {
     "data": {
      "text/plain": [
       "<matplotlib.figure.Figure at 0x11345c9e8>"
      ]
     },
     "metadata": {},
     "output_type": "display_data"
    },
    {
     "data": {
      "image/png": "[encoded data removed]",
      "text/plain": [
       "<matplotlib.figure.Figure at 0x103c8c240>"
      ]
     },
     "metadata": {},
     "output_type": "display_data"
    }
   ],
   "source": [
    "plt.figure(figsize=(6, 2))\n",
    "g = sns.factorplot(x=\"pclass\", y=\"survived\", hue=\"sex\", data=df,\n",
    "                   size=6, kind=\"bar\", palette=pal)\n",
    "g.set_ylabels(\"Survival probability\")\n",
    "plt.title(\"Distribution of Survival by Gender and Passenger Class\");"
   ]
  },
  {
   "cell_type": "markdown",
   "metadata": {},
   "source": [
    "We can also get the exact numbers using the pivot_table functionality of Pandas"
   ]
  },
  {
   "cell_type": "code",
   "execution_count": 80,
   "metadata": {
    "collapsed": false
   },
   "outputs": [
    {
     "data": {
      "text/html": [
       "<div>\n",
       "<table border=\"1\" class=\"dataframe\">\n",
       "  <thead>\n",
       "    <tr style=\"text-align: right;\">\n",
       "      <th>pclass</th>\n",
       "      <th>1</th>\n",
       "      <th>2</th>\n",
       "      <th>3</th>\n",
       "    </tr>\n",
       "    <tr>\n",
       "      <th>sex</th>\n",
       "      <th></th>\n",
       "      <th></th>\n",
       "      <th></th>\n",
       "    </tr>\n",
       "  </thead>\n",
       "  <tbody>\n",
       "    <tr>\n",
       "      <th>female</th>\n",
       "      <td>0.963855</td>\n",
       "      <td>0.918919</td>\n",
       "      <td>0.460784</td>\n",
       "    </tr>\n",
       "    <tr>\n",
       "      <th>male</th>\n",
       "      <td>0.396040</td>\n",
       "      <td>0.151515</td>\n",
       "      <td>0.150198</td>\n",
       "    </tr>\n",
       "  </tbody>\n",
       "</table>\n",
       "</div>"
      ],
      "text/plain": [
       "pclass         1         2         3\n",
       "sex                                 \n",
       "female  0.963855  0.918919  0.460784\n",
       "male    0.396040  0.151515  0.150198"
      ]
     },
     "execution_count": 80,
     "metadata": {},
     "output_type": "execute_result"
    }
   ],
   "source": [
    "df.pivot_table('survived', index='sex', columns='pclass')"
   ]
  },
  {
   "cell_type": "markdown",
   "metadata": {},
   "source": [
    "The data clearly shows that the a higher passenger class meant a higher change of survival. "
   ]
  },
  {
   "cell_type": "markdown",
   "metadata": {},
   "source": [
    "## Age\n",
    "\n",
    "> Women and **children** first...\n",
    "\n",
    "Lets see how the passengers age affected their chance of survival"
   ]
  },
  {
   "cell_type": "code",
   "execution_count": 81,
   "metadata": {
    "collapsed": false
   },
   "outputs": [
    {
     "data": {
      "text/plain": [
       "<seaborn.axisgrid.FacetGrid at 0x103c83470>"
      ]
     },
     "execution_count": 81,
     "metadata": {},
     "output_type": "execute_result"
    },
    {
     "data": {
      "image/png": "[encoded data removed]",
      "text/plain": [
       "<matplotlib.figure.Figure at 0x103c7fc88>"
      ]
     },
     "metadata": {},
     "output_type": "display_data"
    }
   ],
   "source": [
    "g = sns.lmplot(x=\"age\", y=\"survived\", col=\"sex\", hue=\"sex\", data=df,\n",
    "               palette=pal, y_jitter=.02, logistic=True)\n",
    "g.set(xlim=(0, 80), ylim=(-.05, 1.05))"
   ]
  },
  {
   "cell_type": "markdown",
   "metadata": {},
   "source": [
    "We could also extend our pivot table from the passenger class example by also considering the age of the passengers. Lets group the passengers into two bins: children and adults."
   ]
  },
  {
   "cell_type": "code",
   "execution_count": 82,
   "metadata": {
    "collapsed": false
   },
   "outputs": [
    {
     "data": {
      "text/html": [
       "<div>\n",
       "<table border=\"1\" class=\"dataframe\">\n",
       "  <thead>\n",
       "    <tr style=\"text-align: right;\">\n",
       "      <th></th>\n",
       "      <th>pclass</th>\n",
       "      <th>1</th>\n",
       "      <th>2</th>\n",
       "      <th>3</th>\n",
       "    </tr>\n",
       "    <tr>\n",
       "      <th>sex</th>\n",
       "      <th>age</th>\n",
       "      <th></th>\n",
       "      <th></th>\n",
       "      <th></th>\n",
       "    </tr>\n",
       "  </thead>\n",
       "  <tbody>\n",
       "    <tr>\n",
       "      <th rowspan=\"2\" valign=\"top\">female</th>\n",
       "      <th>(0, 18]</th>\n",
       "      <td>0.909091</td>\n",
       "      <td>1.000000</td>\n",
       "      <td>0.511628</td>\n",
       "    </tr>\n",
       "    <tr>\n",
       "      <th>(18, 80]</th>\n",
       "      <td>0.972222</td>\n",
       "      <td>0.900000</td>\n",
       "      <td>0.423729</td>\n",
       "    </tr>\n",
       "    <tr>\n",
       "      <th rowspan=\"2\" valign=\"top\">male</th>\n",
       "      <th>(0, 18]</th>\n",
       "      <td>0.800000</td>\n",
       "      <td>0.600000</td>\n",
       "      <td>0.215686</td>\n",
       "    </tr>\n",
       "    <tr>\n",
       "      <th>(18, 80]</th>\n",
       "      <td>0.375000</td>\n",
       "      <td>0.071429</td>\n",
       "      <td>0.133663</td>\n",
       "    </tr>\n",
       "  </tbody>\n",
       "</table>\n",
       "</div>"
      ],
      "text/plain": [
       "pclass                  1         2         3\n",
       "sex    age                                   \n",
       "female (0, 18]   0.909091  1.000000  0.511628\n",
       "       (18, 80]  0.972222  0.900000  0.423729\n",
       "male   (0, 18]   0.800000  0.600000  0.215686\n",
       "       (18, 80]  0.375000  0.071429  0.133663"
      ]
     },
     "execution_count": 82,
     "metadata": {},
     "output_type": "execute_result"
    }
   ],
   "source": [
    "age = pd.cut(df['age'], [0, 18, 80])\n",
    "df.pivot_table('survived', ['sex', age], 'pclass')"
   ]
  },
  {
   "cell_type": "markdown",
   "metadata": {},
   "source": [
    "We can see that young males in particular have a much higher chance of surving than males above the age of 18."
   ]
  },
  {
   "cell_type": "markdown",
   "metadata": {},
   "source": [
    "## Model Building\n",
    "\n",
    "But before we start, lets pre-process the data so it works better with **sklearn**"
   ]
  },
  {
   "cell_type": "markdown",
   "metadata": {},
   "source": [
    "### Pre-Processing"
   ]
  },
  {
   "cell_type": "markdown",
   "metadata": {},
   "source": [
    "Lets also take a look at our testset"
   ]
  },
  {
   "cell_type": "code",
   "execution_count": 87,
   "metadata": {
    "collapsed": false
   },
   "outputs": [
    {
     "data": {
      "text/plain": [
       "passengerid    418\n",
       "pclass         418\n",
       "name           418\n",
       "sex            418\n",
       "age            332\n",
       "sibsp          418\n",
       "parch          418\n",
       "ticket         418\n",
       "fare           417\n",
       "cabin           91\n",
       "embarked       418\n",
       "dtype: int64"
      ]
     },
     "execution_count": 87,
     "metadata": {},
     "output_type": "execute_result"
    }
   ],
   "source": [
    "test = pd.read_csv(\"data/test.csv\")\n",
    "\n",
    "# Lowercase all column names\n",
    "test.columns = [c.lower() for c in test.columns]\n",
    "\n",
    "test.count()"
   ]
  },
  {
   "cell_type": "markdown",
   "metadata": {},
   "source": [
    "As you can see our testset also have some missing values. Let's combine our training and test data and start cleaning"
   ]
  },
  {
   "cell_type": "code",
   "execution_count": 88,
   "metadata": {
    "collapsed": false
   },
   "outputs": [
    {
     "data": {
      "text/plain": [
       "age            1046\n",
       "cabin           295\n",
       "embarked       1307\n",
       "fare           1308\n",
       "name           1309\n",
       "parch          1309\n",
       "passengerid    1309\n",
       "pclass         1309\n",
       "sex            1309\n",
       "sibsp          1309\n",
       "survived        891\n",
       "ticket         1309\n",
       "dtype: int64"
      ]
     },
     "execution_count": 88,
     "metadata": {},
     "output_type": "execute_result"
    }
   ],
   "source": [
    "combined = pd.concat([titanic, test])\n",
    "combined.count()"
   ]
  },
  {
   "cell_type": "markdown",
   "metadata": {},
   "source": [
    "#### Categorical Values"
   ]
  },
  {
   "cell_type": "markdown",
   "metadata": {},
   "source": [
    "Since sklearn does not play nice with categorical values we have to convert them"
   ]
  },
  {
   "cell_type": "code",
   "execution_count": 89,
   "metadata": {
    "collapsed": false
   },
   "outputs": [
    {
     "data": {
      "text/plain": [
       "age            float64\n",
       "cabin           object\n",
       "embarked        object\n",
       "fare           float64\n",
       "name            object\n",
       "parch            int64\n",
       "passengerid      int64\n",
       "pclass           int64\n",
       "sex             object\n",
       "sibsp            int64\n",
       "survived       float64\n",
       "ticket          object\n",
       "dtype: object"
      ]
     },
     "execution_count": 89,
     "metadata": {},
     "output_type": "execute_result"
    }
   ],
   "source": [
    "combined.dtypes"
   ]
  },
  {
   "cell_type": "code",
   "execution_count": 90,
   "metadata": {
    "collapsed": false
   },
   "outputs": [
    {
     "data": {
      "text/plain": [
       "age            float64\n",
       "cabin           object\n",
       "embarked        object\n",
       "fare           float64\n",
       "name            object\n",
       "parch            int64\n",
       "passengerid      int64\n",
       "sibsp            int64\n",
       "survived       float64\n",
       "ticket          object\n",
       "pclass_1       float64\n",
       "pclass_2       float64\n",
       "pclass_3       float64\n",
       "sex_female     float64\n",
       "sex_male       float64\n",
       "dtype: object"
      ]
     },
     "execution_count": 90,
     "metadata": {},
     "output_type": "execute_result"
    }
   ],
   "source": [
    "def convert_categorical(dataframe, features):\n",
    "    # Create dummy variables\n",
    "    d = [pd.get_dummies(dataframe[c], prefix=c) for c in features]\n",
    "    # Add dummy variables to df\n",
    "    dataframe = pd.concat((dataframe, pd.concat(d, axis=1)),axis=1)\n",
    "    # Drop the converted variables\n",
    "    dataframe = dataframe.drop(features, axis=1)\n",
    "    return dataframe\n",
    "\n",
    "# Categorical features with non-missing values\n",
    "categorical = ['pclass','sex']\n",
    "\n",
    "combined = convert_categorical(combined, categorical)\n",
    "\n",
    "combined.dtypes"
   ]
  },
  {
   "cell_type": "markdown",
   "metadata": {},
   "source": [
    "#### Missing Age Values\n",
    "\n",
    "We are missing a lot of age values, but we do not wish to throw away over 200 rows, or 20% of our total data. Instead we could e.g.:\n",
    "\n",
    "* **Easy**: Calculate the mean age value and use this to fill the missing values\n",
    "* **Sophisticated**: Make a linear model to predict the missing values\n",
    "\n",
    "Before we start i would also like to mention that we are facing the same issue in our test-data. We would also like to clean this up while we are at it."
   ]
  },
  {
   "cell_type": "code",
   "execution_count": 91,
   "metadata": {
    "collapsed": true
   },
   "outputs": [],
   "source": [
    "# again, let's drop the cabin column\n",
    "combined = combined.drop(['cabin'], axis=1)\n",
    "\n",
    "# Fill the missing values of Embarked with the most common value (\"S\")\n",
    "combined.embarked[combined.embarked.isnull()] = combined.embarked.dropna().mode().values\n",
    "\n",
    "# Convert Embarked into dummy/indicator variables\n",
    "combined = convert_categorical(combined, [\"embarked\"])"
   ]
  },
  {
   "cell_type": "markdown",
   "metadata": {},
   "source": [
    "The easy solution"
   ]
  },
  {
   "cell_type": "code",
   "execution_count": 92,
   "metadata": {
    "collapsed": true
   },
   "outputs": [],
   "source": [
    "#combined[\"age\"] = combined[\"age\"].fillna(combined[\"age\"].mean());\n",
    "#combined[\"fare\"] = combined[\"fare\"].fillna(combined[\"fare\"].mean())"
   ]
  },
  {
   "cell_type": "markdown",
   "metadata": {},
   "source": [
    "A more sophisticated solution where we predict the missing values for age fare"
   ]
  },
  {
   "cell_type": "code",
   "execution_count": 94,
   "metadata": {
    "collapsed": false
   },
   "outputs": [
    {
     "data": {
      "text/plain": [
       "age            1309\n",
       "fare           1309\n",
       "name           1309\n",
       "parch          1309\n",
       "passengerid    1309\n",
       "sibsp          1309\n",
       "survived        891\n",
       "ticket         1309\n",
       "pclass_1       1309\n",
       "pclass_2       1309\n",
       "pclass_3       1309\n",
       "sex_female     1309\n",
       "sex_male       1309\n",
       "embarked_C     1309\n",
       "embarked_Q     1309\n",
       "embarked_S     1309\n",
       "dtype: int64"
      ]
     },
     "execution_count": 94,
     "metadata": {},
     "output_type": "execute_result"
    }
   ],
   "source": [
    "from sklearn.linear_model import LinearRegression\n",
    "\n",
    "def predict_missing(df, label, features):\n",
    "    # Rows where the label value is known\n",
    "    known = df.loc[~df[label].isnull()]\n",
    "    # Rows where the label value is unknown\n",
    "    missing = df.loc[df[label].isnull()]\n",
    "    X = known[list(features)].values\n",
    "    y = known[label].values\n",
    "    X_missing = missing[list(features)].values\n",
    "    rtr = LinearRegression().fit(X, y)\n",
    "    predicted = rtr.predict(X_missing)\n",
    "    df.loc[(df[label].isnull()), label] = predicted\n",
    "    return df\n",
    "\n",
    "features = [\"parch\",\n",
    "            \"embarked_C\",\n",
    "            \"embarked_Q\",\n",
    "            \"embarked_S\",\n",
    "            \"pclass_1\",\n",
    "            \"pclass_2\",\n",
    "            \"pclass_3\",\n",
    "            \"sex_female\",\n",
    "            \"sex_male\",\n",
    "            \"sibsp\"]\n",
    "\n",
    "missing = [\"age\", \"fare\"]\n",
    "\n",
    "# Predict the missing values for Age and Fare\n",
    "for m in missing:\n",
    "    combined = predict_missing(combined, m, features)\n",
    "\n",
    "combined.count()"
   ]
  },
  {
   "cell_type": "code",
   "execution_count": 95,
   "metadata": {
    "collapsed": false
   },
   "outputs": [
    {
     "name": "stdout",
     "output_type": "stream",
     "text": [
      "Before\n",
      "29.5110757257\n",
      "\n",
      "After\n",
      "9.97419615706e-17\n"
     ]
    }
   ],
   "source": [
    "from sklearn.preprocessing import StandardScaler\n",
    "\n",
    "print(\"Before\")\n",
    "print(combined['age'].mean())\n",
    "print()\n",
    "\n",
    "# scaling\n",
    "scaler = StandardScaler(with_mean=True)\n",
    "combined['age'] = scaler.fit_transform(combined['age'].reshape(-1, 1))\n",
    "\n",
    "print(\"After\")\n",
    "print(combined['age'].mean())"
   ]
  },
  {
   "cell_type": "markdown",
   "metadata": {},
   "source": [
    "### Final Touches\n",
    "\n",
    "Lets split our combined and cleaned dataset back into a training- and test set and only keep a subset of our features as input for our models."
   ]
  },
  {
   "cell_type": "code",
   "execution_count": 99,
   "metadata": {
    "collapsed": false
   },
   "outputs": [],
   "source": [
    "# lets split or dataset back into training and test sets\n",
    "train = combined[~combined.survived.isnull()]\n",
    "test = combined[combined.survived.isnull()]\n",
    "\n",
    "features = [\"age\",\n",
    "            \"embarked_C\",\n",
    "            \"embarked_Q\",\n",
    "            \"embarked_S\",\n",
    "            \"fare\",\n",
    "            \"parch\",\n",
    "            \"pclass_1\",\n",
    "            \"pclass_2\",\n",
    "            \"pclass_3\",\n",
    "            \"sex_female\",\n",
    "            \"sex_male\",\n",
    "            \"sibsp\"]\n",
    "\n",
    "label = \"survived\"\n",
    "\n",
    "# create our new training set\n",
    "X, y = train[list(features)].values, train[label].values\n",
    "\n",
    "# create our new test set\n",
    "X_test_set = test[list(features)]"
   ]
  },
  {
   "cell_type": "markdown",
   "metadata": {},
   "source": [
    "### Random Forest\n",
    "\n",
    "> Random forests are an ensemble learning method for classification (and regression) that operate by constructing a multitude of decision trees at training time and outputting the class that is the mode of the classes output by individual trees."
   ]
  },
  {
   "cell_type": "code",
   "execution_count": 100,
   "metadata": {
    "collapsed": false
   },
   "outputs": [
    {
     "data": {
      "text/plain": [
       "0.98204264870931535"
      ]
     },
     "execution_count": 100,
     "metadata": {},
     "output_type": "execute_result"
    }
   ],
   "source": [
    "from sklearn.ensemble import RandomForestClassifier\n",
    "\n",
    "# Fit the random forest classifier\n",
    "clf = RandomForestClassifier(n_estimators=500).fit(X, y)\n",
    "\n",
    "clf.score(X, y)"
   ]
  },
  {
   "cell_type": "markdown",
   "metadata": {},
   "source": [
    "It is **generally not a good idea to test our model on the same data used for training**. If we optimize our estimator this way, we will tend to over-fit the data: that is, we learn the noise.\n",
    "\n",
    "#### Hold-out datasets\n",
    "\n",
    "A better way to test a model is to use a hold-out set which doesnt enter the training."
   ]
  },
  {
   "cell_type": "code",
   "execution_count": 101,
   "metadata": {
    "collapsed": false
   },
   "outputs": [
    {
     "data": {
      "text/plain": [
       "0.74439461883408076"
      ]
     },
     "execution_count": 101,
     "metadata": {},
     "output_type": "execute_result"
    }
   ],
   "source": [
    "from sklearn.datasets import load_digits\n",
    "from sklearn.cross_validation import train_test_split\n",
    "\n",
    "# Generate a 75:25 hold-out dataset\n",
    "X_train, X_test, y_train, y_test = train_test_split(X, y)\n",
    "\n",
    "# Fit the model model\n",
    "clf.fit(X_train, y_train)\n",
    "\n",
    "# Predict labels for our hold-out dataset\n",
    "y_pred = clf.predict(X_test)\n",
    "\n",
    "# Score our new model\n",
    "clf.score(X_test, y_test)"
   ]
  },
  {
   "cell_type": "markdown",
   "metadata": {},
   "source": [
    "In this particular case - data is extremely limited. One of the main problems with validation sets is that you \"lose\" some of the data, for example in the above example we only used 75% of our data to train the model. Another option is to use **K-fold cross-validation** where you split the data into K chunks and perform K fits, where each chunk gets a turn as the validation set."
   ]
  },
  {
   "cell_type": "code",
   "execution_count": 102,
   "metadata": {
    "collapsed": false
   },
   "outputs": [
    {
     "name": "stdout",
     "output_type": "stream",
     "text": [
      "Min: 0.756, Mean: 0.806, Max: 0.865\n"
     ]
    }
   ],
   "source": [
    "from sklearn.cross_validation import cross_val_score\n",
    "\n",
    "# Perform 10-fold cross validation\n",
    "cv = cross_val_score(RandomForestClassifier(n_estimators=100), X, y, cv=10)\n",
    "\n",
    "# Cross validation scores\n",
    "print(\"Min: {:.3f}, Mean: {:.3f}, Max: {:.3f}\".format(cv.min(), cv.mean(), cv.max()))"
   ]
  },
  {
   "cell_type": "markdown",
   "metadata": {},
   "source": [
    "This will give us an even better idea of how well our model is doing. Lets see if we can improve our models performance by finding the optimal parameters through by searching"
   ]
  },
  {
   "cell_type": "markdown",
   "metadata": {},
   "source": [
    "### Finding the optimal model parameters"
   ]
  },
  {
   "cell_type": "code",
   "execution_count": 184,
   "metadata": {
    "collapsed": false
   },
   "outputs": [
    {
     "name": "stdout",
     "output_type": "stream",
     "text": [
      "GridSearchCV took 25.95 seconds for 32 candidate parameter settings.\n",
      "\n",
      "Best Parameters\n",
      "{'max_depth': 9, 'n_estimators': 1000, 'bootstrap': True}\n",
      "\n",
      "Best Score\n",
      "0.826038159371\n",
      "\n",
      "Grid Scores\n"
     ]
    },
    {
     "data": {
      "text/plain": [
       "[mean: 0.82604, std: 0.02479, params: {'max_depth': 9, 'n_estimators': 1000, 'bootstrap': True},\n",
       " mean: 0.82492, std: 0.02349, params: {'max_depth': 9, 'n_estimators': 500, 'bootstrap': True},\n",
       " mean: 0.82379, std: 0.01384, params: {'max_depth': 7, 'n_estimators': 1000, 'bootstrap': True},\n",
       " mean: 0.82379, std: 0.01680, params: {'max_depth': 9, 'n_estimators': 200, 'bootstrap': True},\n",
       " mean: 0.82379, std: 0.02767, params: {'max_depth': 9, 'n_estimators': 1500, 'bootstrap': True},\n",
       " mean: 0.82267, std: 0.02082, params: {'max_depth': 7, 'n_estimators': 500, 'bootstrap': False},\n",
       " mean: 0.82267, std: 0.02082, params: {'max_depth': 7, 'n_estimators': 1000, 'bootstrap': False},\n",
       " mean: 0.82155, std: 0.03241, params: {'max_depth': 11, 'n_estimators': 500, 'bootstrap': True},\n",
       " mean: 0.82155, std: 0.02974, params: {'max_depth': 11, 'n_estimators': 1000, 'bootstrap': True},\n",
       " mean: 0.82155, std: 0.02708, params: {'max_depth': 11, 'n_estimators': 1500, 'bootstrap': True},\n",
       " mean: 0.82155, std: 0.02182, params: {'max_depth': 7, 'n_estimators': 1500, 'bootstrap': False},\n",
       " mean: 0.82043, std: 0.01931, params: {'max_depth': 7, 'n_estimators': 1500, 'bootstrap': True},\n",
       " mean: 0.82043, std: 0.02670, params: {'max_depth': 11, 'n_estimators': 200, 'bootstrap': True},\n",
       " mean: 0.82043, std: 0.02026, params: {'max_depth': 7, 'n_estimators': 200, 'bootstrap': False},\n",
       " mean: 0.81930, std: 0.02822, params: {'max_depth': 9, 'n_estimators': 1000, 'bootstrap': False},\n",
       " mean: 0.81818, std: 0.01649, params: {'max_depth': 7, 'n_estimators': 500, 'bootstrap': True},\n",
       " mean: 0.81818, std: 0.01198, params: {'max_depth': 5, 'n_estimators': 1000, 'bootstrap': False},\n",
       " mean: 0.81818, std: 0.02790, params: {'max_depth': 9, 'n_estimators': 1500, 'bootstrap': False},\n",
       " mean: 0.81706, std: 0.02205, params: {'max_depth': 7, 'n_estimators': 200, 'bootstrap': True},\n",
       " mean: 0.81706, std: 0.01384, params: {'max_depth': 5, 'n_estimators': 500, 'bootstrap': False},\n",
       " mean: 0.81706, std: 0.01514, params: {'max_depth': 5, 'n_estimators': 1500, 'bootstrap': False},\n",
       " mean: 0.81706, std: 0.02767, params: {'max_depth': 9, 'n_estimators': 200, 'bootstrap': False},\n",
       " mean: 0.81706, std: 0.02670, params: {'max_depth': 9, 'n_estimators': 500, 'bootstrap': False},\n",
       " mean: 0.81481, std: 0.01198, params: {'max_depth': 5, 'n_estimators': 1500, 'bootstrap': True},\n",
       " mean: 0.81369, std: 0.01299, params: {'max_depth': 5, 'n_estimators': 1000, 'bootstrap': True},\n",
       " mean: 0.81369, std: 0.01041, params: {'max_depth': 5, 'n_estimators': 200, 'bootstrap': False},\n",
       " mean: 0.81257, std: 0.01111, params: {'max_depth': 5, 'n_estimators': 500, 'bootstrap': True},\n",
       " mean: 0.81145, std: 0.01455, params: {'max_depth': 5, 'n_estimators': 200, 'bootstrap': True},\n",
       " mean: 0.81145, std: 0.02623, params: {'max_depth': 11, 'n_estimators': 500, 'bootstrap': False},\n",
       " mean: 0.81033, std: 0.02808, params: {'max_depth': 11, 'n_estimators': 1000, 'bootstrap': False},\n",
       " mean: 0.80696, std: 0.02808, params: {'max_depth': 11, 'n_estimators': 200, 'bootstrap': False},\n",
       " mean: 0.80584, std: 0.02698, params: {'max_depth': 11, 'n_estimators': 1500, 'bootstrap': False}]"
      ]
     },
     "execution_count": 184,
     "metadata": {},
     "output_type": "execute_result"
    }
   ],
   "source": [
    "from time import time\n",
    "from sklearn.grid_search import GridSearchCV\n",
    "\n",
    "param_grid = {\"max_depth\": [5, 7, 9, 11],\n",
    "              \"n_estimators\": [200, 500, 1000, 1500],\n",
    "              \"bootstrap\": [True, False]\n",
    "             }\n",
    "\n",
    "clf = RandomForestClassifier()\n",
    "\n",
    "start = time()\n",
    "\n",
    "# this may take some minutes...\n",
    "gs = GridSearchCV(clf, param_grid, n_jobs=-1).fit(X, y)\n",
    "\n",
    "print(\"GridSearchCV took %.2f seconds for %d candidate parameter settings.\"\n",
    "      % (time() - start, len(gs.grid_scores_)))\n",
    "print()\n",
    "\n",
    "print(\"Best Parameters\")\n",
    "print(gs.best_params_)\n",
    "print()\n",
    "\n",
    "print(\"Best Score\")\n",
    "print(gs.best_score_)\n",
    "print()\n",
    "\n",
    "print(\"Grid Scores\")\n",
    "sorted(gs.grid_scores_, key=lambda x: x.mean_validation_score, reverse=True)"
   ]
  },
  {
   "cell_type": "markdown",
   "metadata": {},
   "source": [
    "Or XGBoost..."
   ]
  },
  {
   "cell_type": "code",
   "execution_count": 164,
   "metadata": {
    "collapsed": false
   },
   "outputs": [
    {
     "name": "stdout",
     "output_type": "stream",
     "text": [
      "GridSearchCV took 7.54 seconds for 27 candidate parameter settings.\n",
      "\n",
      "Best Parameters\n",
      "{'learning_rate': 0.05, 'max_depth': 2, 'n_estimators': 500}\n",
      "\n",
      "Best Score\n",
      "0.82379349046\n",
      "\n",
      "Grid Scores\n"
     ]
    },
    {
     "data": {
      "text/plain": [
       "[mean: 0.82379, std: 0.03041, params: {'learning_rate': 0.05, 'max_depth': 2, 'n_estimators': 500},\n",
       " mean: 0.82379, std: 0.02402, params: {'learning_rate': 0.1, 'max_depth': 2, 'n_estimators': 500},\n",
       " mean: 0.82267, std: 0.03016, params: {'learning_rate': 0.075, 'max_depth': 2, 'n_estimators': 500},\n",
       " mean: 0.82267, std: 0.02914, params: {'learning_rate': 0.1, 'max_depth': 2, 'n_estimators': 300},\n",
       " mean: 0.82155, std: 0.01717, params: {'learning_rate': 0.05, 'max_depth': 5, 'n_estimators': 300},\n",
       " mean: 0.81930, std: 0.02289, params: {'learning_rate': 0.05, 'max_depth': 2, 'n_estimators': 2000},\n",
       " mean: 0.81930, std: 0.01830, params: {'learning_rate': 0.075, 'max_depth': 2, 'n_estimators': 2000},\n",
       " mean: 0.81818, std: 0.02250, params: {'learning_rate': 0.075, 'max_depth': 2, 'n_estimators': 300},\n",
       " mean: 0.81481, std: 0.01260, params: {'learning_rate': 0.075, 'max_depth': 5, 'n_estimators': 300},\n",
       " mean: 0.80920, std: 0.00884, params: {'learning_rate': 0.05, 'max_depth': 9, 'n_estimators': 500},\n",
       " mean: 0.80920, std: 0.02026, params: {'learning_rate': 0.1, 'max_depth': 2, 'n_estimators': 2000},\n",
       " mean: 0.80808, std: 0.00991, params: {'learning_rate': 0.075, 'max_depth': 9, 'n_estimators': 300},\n",
       " mean: 0.80696, std: 0.01111, params: {'learning_rate': 0.05, 'max_depth': 5, 'n_estimators': 500},\n",
       " mean: 0.80696, std: 0.01111, params: {'learning_rate': 0.075, 'max_depth': 5, 'n_estimators': 500},\n",
       " mean: 0.80696, std: 0.01240, params: {'learning_rate': 0.1, 'max_depth': 5, 'n_estimators': 300},\n",
       " mean: 0.80584, std: 0.01111, params: {'learning_rate': 0.1, 'max_depth': 9, 'n_estimators': 300},\n",
       " mean: 0.80471, std: 0.02443, params: {'learning_rate': 0.05, 'max_depth': 2, 'n_estimators': 300},\n",
       " mean: 0.80471, std: 0.00952, params: {'learning_rate': 0.05, 'max_depth': 9, 'n_estimators': 300},\n",
       " mean: 0.80471, std: 0.01531, params: {'learning_rate': 0.1, 'max_depth': 9, 'n_estimators': 500},\n",
       " mean: 0.80247, std: 0.01514, params: {'learning_rate': 0.075, 'max_depth': 9, 'n_estimators': 500},\n",
       " mean: 0.79910, std: 0.02082, params: {'learning_rate': 0.075, 'max_depth': 5, 'n_estimators': 2000},\n",
       " mean: 0.79686, std: 0.01563, params: {'learning_rate': 0.05, 'max_depth': 9, 'n_estimators': 2000},\n",
       " mean: 0.79686, std: 0.01384, params: {'learning_rate': 0.1, 'max_depth': 5, 'n_estimators': 500},\n",
       " mean: 0.79686, std: 0.01989, params: {'learning_rate': 0.1, 'max_depth': 5, 'n_estimators': 2000},\n",
       " mean: 0.79574, std: 0.01871, params: {'learning_rate': 0.05, 'max_depth': 5, 'n_estimators': 2000},\n",
       " mean: 0.79349, std: 0.01299, params: {'learning_rate': 0.075, 'max_depth': 9, 'n_estimators': 2000},\n",
       " mean: 0.79349, std: 0.01680, params: {'learning_rate': 0.1, 'max_depth': 9, 'n_estimators': 2000}]"
      ]
     },
     "execution_count": 164,
     "metadata": {},
     "output_type": "execute_result"
    }
   ],
   "source": [
    "import xgboost as xgb\n",
    "\n",
    "param_grid = {\n",
    "    'learning_rate': [0.05, 0.075, 0.1],\n",
    "    'n_estimators': [300, 500, 2000],\n",
    "    'max_depth': [2, 5, 9],\n",
    "}\n",
    "\n",
    "clf = xgb.XGBClassifier()\n",
    "\n",
    "start = time()\n",
    "\n",
    "# this may take some minutes...\n",
    "gs = GridSearchCV(clf, param_grid, n_jobs=-1).fit(X, y)\n",
    "\n",
    "print(\"GridSearchCV took %.2f seconds for %d candidate parameter settings.\"\n",
    "      % (time() - start, len(gs.grid_scores_)))\n",
    "print()\n",
    "\n",
    "print(\"Best Parameters\")\n",
    "print(gs.best_params_)\n",
    "print()\n",
    "\n",
    "print(\"Best Score\")\n",
    "print(gs.best_score_)\n",
    "print()\n",
    "\n",
    "print(\"Grid Scores\")\n",
    "sorted(gs.grid_scores_, key=lambda x: x.mean_validation_score, reverse=True)"
   ]
  },
  {
   "cell_type": "markdown",
   "metadata": {},
   "source": [
    "#### Evaluating the Results"
   ]
  },
  {
   "cell_type": "code",
   "execution_count": 172,
   "metadata": {
    "collapsed": false
   },
   "outputs": [],
   "source": [
    "from sklearn.metrics import classification_report\n",
    "\n",
    "X_train, X_test, y_train, y_test = train_test_split(X, y)\n",
    "\n",
    "# TODO: Figure out a way to pass rf.best_params as an argument\n",
    "d = gs.best_params_[\"max_depth\"]\n",
    "n = gs.best_params_[\"n_estimators\"]\n",
    "b = gs.best_params_[\"bootstrap\"]\n",
    "\n",
    "clf = RandomForestClassifier(n_estimators=n, max_depth=d, bootstrap=b).fit(X_train, y_train)\n",
    "\n",
    "y_pred = clf.predict(X_test)"
   ]
  },
  {
   "cell_type": "markdown",
   "metadata": {},
   "source": [
    "#### Confusion Matrix"
   ]
  },
  {
   "cell_type": "code",
   "execution_count": 173,
   "metadata": {
    "collapsed": false
   },
   "outputs": [
    {
     "name": "stdout",
     "output_type": "stream",
     "text": [
      "Confusion Matrix\n",
      "[[122  10]\n",
      " [ 37  54]]\n"
     ]
    },
    {
     "data": {
      "image/png": "[encoded data removed]",
      "text/plain": [
       "<matplotlib.figure.Figure at 0x111a03a58>"
      ]
     },
     "metadata": {},
     "output_type": "display_data"
    }
   ],
   "source": [
    "from sklearn.metrics import confusion_matrix\n",
    "\n",
    "# Generate the confusion matrix\n",
    "cm = confusion_matrix(y_test, y_pred)\n",
    "\n",
    "# Plot the confusion matrix\n",
    "plt.imshow(cm, cmap='Blues', interpolation='nearest')\n",
    "plt.colorbar()\n",
    "plt.grid(False)\n",
    "plt.ylabel('True')\n",
    "plt.xlabel('Predicted')\n",
    "\n",
    "print(\"Confusion Matrix\")\n",
    "print(cm)"
   ]
  },
  {
   "cell_type": "markdown",
   "metadata": {},
   "source": [
    "As you can see we are better at predicting who died than who actually survived. We are only able to correctly classify "
   ]
  },
  {
   "cell_type": "code",
   "execution_count": 177,
   "metadata": {
    "collapsed": false
   },
   "outputs": [
    {
     "name": "stdout",
     "output_type": "stream",
     "text": [
      "             precision    recall  f1-score   support\n",
      "\n",
      "   Perished       0.77      0.92      0.84       132\n",
      "   Survived       0.84      0.59      0.70        91\n",
      "\n",
      "avg / total       0.80      0.79      0.78       223\n",
      "\n"
     ]
    }
   ],
   "source": [
    "from sklearn.metrics import classification_report\n",
    "\n",
    "print(classification_report(y_test, y_pred, target_names=[\"Perished\", \"Survived\"]))"
   ]
  },
  {
   "cell_type": "code",
   "execution_count": 193,
   "metadata": {
    "collapsed": false
   },
   "outputs": [
    {
     "name": "stdout",
     "output_type": "stream",
     "text": [
      "AUC\n",
      "0.758824508825\n"
     ]
    },
    {
     "data": {
      "image/png": "[encoded data removed]",
      "text/plain": [
       "<matplotlib.figure.Figure at 0x11438ae80>"
      ]
     },
     "metadata": {},
     "output_type": "display_data"
    }
   ],
   "source": [
    "from sklearn.metrics import roc_curve, auc\n",
    "\n",
    "# Calculate the false positive rate and true positive rate\n",
    "fpr, tpr, thresholds = roc_curve(y_test, y_pred)\n",
    "\n",
    "roc_auc = auc(fpr, tpr)\n",
    "\n",
    "print(\"AUC\")\n",
    "print(roc_auc)\n",
    "\n",
    "plt.plot(fpr, tpr, label='ROC Curve')\n",
    "plt.plot([0,1],[0,1],'g--');\n",
    "plt.legend(('ROC Curve', 'Default'), loc='best');"
   ]
  },
  {
   "cell_type": "markdown",
   "metadata": {},
   "source": [
    "### Making Predictions"
   ]
  },
  {
   "cell_type": "code",
   "execution_count": 176,
   "metadata": {
    "collapsed": false
   },
   "outputs": [],
   "source": [
    "# predict outcomes for the test set\n",
    "Y_pred = gs.predict(X_test_set)\n",
    "\n",
    "# get the passenger ids\n",
    "pid = test[\"passengerid\"].values\n",
    "\n",
    "csv = np.column_stack((pid, Y_pred))\n",
    "\n",
    "# Generate submission file\n",
    "np.savetxt(\"titanic.csv\", csv, delimiter=\",\", fmt=\"%d\", header=\"PassengerId,Survived\", comments='')"
   ]
  }
 ],
 "metadata": {
  "kernelspec": {
   "display_name": "Python 3",
   "language": "python",
   "name": "python3"
  },
  "language_info": {
   "codemirror_mode": {
    "name": "ipython",
    "version": 3
   },
   "file_extension": ".py",
   "mimetype": "text/x-python",
   "name": "python",
   "nbconvert_exporter": "python",
   "pygments_lexer": "ipython3",
   "version": "3.4.3"
  }
 },
 "nbformat": 4,
 "nbformat_minor": 0
}
